{
 "cells": [
  {
   "cell_type": "code",
   "execution_count": 13,
   "id": "212b1454-61cd-469a-a438-47fd7de5b311",
   "metadata": {},
   "outputs": [],
   "source": [
    "import pandas as pd\n",
    "import numpy as np\n",
    "import seaborn as sns\n",
    "\n",
    "sns.set_style('whitegrid')"
   ]
  },
  {
   "cell_type": "code",
   "execution_count": 14,
   "id": "c5ad2831-ab97-44a1-b511-e015e46bbba9",
   "metadata": {},
   "outputs": [],
   "source": [
    "avg = 1\n",
    "std_dev = .1\n",
    "num_reps = 500\n",
    "num_simulations = 1000"
   ]
  },
  {
   "cell_type": "code",
   "execution_count": 15,
   "id": "06a8b917-f698-43de-8d90-d3f605d2729e",
   "metadata": {},
   "outputs": [],
   "source": [
    "pct_to_target = np.random.normal(avg, std_dev, num_reps).round(2)"
   ]
  },
  {
   "cell_type": "code",
   "execution_count": 16,
   "id": "cd1df07a-18c8-4db8-89a8-4c2b0bf2590f",
   "metadata": {},
   "outputs": [],
   "source": [
    "sales_target_values = [75_000, 100_000, 200_000, 300_000, 400_000, 500_000]\n",
    "sales_target_prob = [.3, .3, .2, .1, .05, .05]\n",
    "sales_target = np.random.choice(sales_target_values, num_reps, p=sales_target_prob)"
   ]
  },
  {
   "cell_type": "code",
   "execution_count": 17,
   "id": "8ddf6cbc-e985-4a4b-8827-0eace067a95b",
   "metadata": {},
   "outputs": [],
   "source": [
    "df = pd.DataFrame(index=range(num_reps), data={'Pct_To_Target': pct_to_target,\n",
    "                                               'Sales_Target': sales_target})\n",
    "\n",
    "df['Sales'] = df['Pct_To_Target'] * df['Sales_Target']"
   ]
  },
  {
   "cell_type": "code",
   "execution_count": 18,
   "id": "9b7442a6-8392-4a43-8f3b-bb709f1d9313",
   "metadata": {},
   "outputs": [],
   "source": [
    "def calc_commission_rate(x):\n",
    "    \"\"\" Return the commission rate based on the table:\n",
    "    0-90% = 2%\n",
    "    91-99% = 3%\n",
    "    >= 100 = 4%\n",
    "    \"\"\"\n",
    "    if x <= .90:\n",
    "        return .02\n",
    "    if x <= .99:\n",
    "        return .03\n",
    "    else:\n",
    "        return .04"
   ]
  },
  {
   "cell_type": "code",
   "execution_count": 19,
   "id": "97cbfe67-ed5a-4f4a-bf72-349e858a7f31",
   "metadata": {},
   "outputs": [],
   "source": [
    "df['Commission_Rate'] = df['Pct_To_Target'].apply(calc_commission_rate)\n",
    "df['Commission_Amount'] = df['Commission_Rate'] * df['Sales']"
   ]
  },
  {
   "cell_type": "code",
   "execution_count": 20,
   "id": "6dbf1c5e-64fe-4bb9-ad53-e7b5d8ca9607",
   "metadata": {},
   "outputs": [],
   "source": [
    "# Define a list to keep all the results from each simulation that we want to analyze\n",
    "all_stats = []\n",
    "\n",
    "# Loop through many simulations\n",
    "for i in range(num_simulations):\n",
    "\n",
    "    # Choose random inputs for the sales targets and percent to target\n",
    "    sales_target = np.random.choice(sales_target_values, num_reps, p=sales_target_prob)\n",
    "    pct_to_target = np.random.normal(avg, std_dev, num_reps).round(2)\n",
    "\n",
    "    # Build the dataframe based on the inputs and number of reps\n",
    "    df = pd.DataFrame(index=range(num_reps), data={'Pct_To_Target': pct_to_target,\n",
    "                                                   'Sales_Target': sales_target})\n",
    "\n",
    "    # Back into the sales number using the percent to target rate\n",
    "    df['Sales'] = df['Pct_To_Target'] * df['Sales_Target']\n",
    "\n",
    "    # Determine the commissions rate and calculate it\n",
    "    df['Commission_Rate'] = df['Pct_To_Target'].apply(calc_commission_rate)\n",
    "    df['Commission_Amount'] = df['Commission_Rate'] * df['Sales']\n",
    "\n",
    "    # We want to track sales,commission amounts and sales targets over all the simulations\n",
    "    all_stats.append([df['Sales'].sum().round(0),\n",
    "                      df['Commission_Amount'].sum().round(0),\n",
    "                      df['Sales_Target'].sum().round(0)])"
   ]
  },
  {
   "cell_type": "code",
   "execution_count": 21,
   "id": "e5bb0fac-22db-4cf6-ab91-dda860c415be",
   "metadata": {},
   "outputs": [],
   "source": [
    "results_df = pd.DataFrame.from_records(all_stats, columns=['Sales',\n",
    "                                                           'Commission_Amount',\n",
    "                                                           'Sales_Target'])"
   ]
  },
  {
   "cell_type": "code",
   "execution_count": 22,
   "id": "2f23fdf6-5fbb-4b54-b669-97f633927038",
   "metadata": {},
   "outputs": [
    {
     "data": {
      "text/html": [
       "<style  type=\"text/css\" >\n",
       "</style><table id=\"T_29f88_\" ><thead>    <tr>        <th class=\"blank level0\" ></th>        <th class=\"col_heading level0 col0\" >Sales</th>        <th class=\"col_heading level0 col1\" >Commission_Amount</th>        <th class=\"col_heading level0 col2\" >Sales_Target</th>    </tr></thead><tbody>\n",
       "                <tr>\n",
       "                        <th id=\"T_29f88_level0_row0\" class=\"row_heading level0 row0\" >count</th>\n",
       "                        <td id=\"T_29f88_row0_col0\" class=\"data row0 col0\" >1,000.0</td>\n",
       "                        <td id=\"T_29f88_row0_col1\" class=\"data row0 col1\" >1,000.0</td>\n",
       "                        <td id=\"T_29f88_row0_col2\" class=\"data row0 col2\" >1,000.0</td>\n",
       "            </tr>\n",
       "            <tr>\n",
       "                        <th id=\"T_29f88_level0_row1\" class=\"row_heading level0 row1\" >mean</th>\n",
       "                        <td id=\"T_29f88_row1_col0\" class=\"data row1 col0\" >83,880,017.5</td>\n",
       "                        <td id=\"T_29f88_row1_col1\" class=\"data row1 col1\" >2,862,085.41</td>\n",
       "                        <td id=\"T_29f88_row1_col2\" class=\"data row1 col2\" >83,904,925.0</td>\n",
       "            </tr>\n",
       "            <tr>\n",
       "                        <th id=\"T_29f88_level0_row2\" class=\"row_heading level0 row2\" >std</th>\n",
       "                        <td id=\"T_29f88_row2_col0\" class=\"data row2 col0\" >2,678,728.2926716446</td>\n",
       "                        <td id=\"T_29f88_row2_col1\" class=\"data row2 col1\" >101,543.78338279307</td>\n",
       "                        <td id=\"T_29f88_row2_col2\" class=\"data row2 col2\" >2,639,549.884538644</td>\n",
       "            </tr>\n",
       "            <tr>\n",
       "                        <th id=\"T_29f88_level0_row3\" class=\"row_heading level0 row3\" >min</th>\n",
       "                        <td id=\"T_29f88_row3_col0\" class=\"data row3 col0\" >75,848,250.0</td>\n",
       "                        <td id=\"T_29f88_row3_col1\" class=\"data row3 col1\" >2,543,082.0</td>\n",
       "                        <td id=\"T_29f88_row3_col2\" class=\"data row3 col2\" >76,225,000.0</td>\n",
       "            </tr>\n",
       "            <tr>\n",
       "                        <th id=\"T_29f88_level0_row4\" class=\"row_heading level0 row4\" >25%</th>\n",
       "                        <td id=\"T_29f88_row4_col0\" class=\"data row4 col0\" >81,989,125.0</td>\n",
       "                        <td id=\"T_29f88_row4_col1\" class=\"data row4 col1\" >2,793,004.0</td>\n",
       "                        <td id=\"T_29f88_row4_col2\" class=\"data row4 col2\" >82,075,000.0</td>\n",
       "            </tr>\n",
       "            <tr>\n",
       "                        <th id=\"T_29f88_level0_row5\" class=\"row_heading level0 row5\" >50%</th>\n",
       "                        <td id=\"T_29f88_row5_col0\" class=\"data row5 col0\" >83,824,750.0</td>\n",
       "                        <td id=\"T_29f88_row5_col1\" class=\"data row5 col1\" >2,862,991.5</td>\n",
       "                        <td id=\"T_29f88_row5_col2\" class=\"data row5 col2\" >83,825,000.0</td>\n",
       "            </tr>\n",
       "            <tr>\n",
       "                        <th id=\"T_29f88_level0_row6\" class=\"row_heading level0 row6\" >75%</th>\n",
       "                        <td id=\"T_29f88_row6_col0\" class=\"data row6 col0\" >85,749,562.5</td>\n",
       "                        <td id=\"T_29f88_row6_col1\" class=\"data row6 col1\" >2,932,989.0</td>\n",
       "                        <td id=\"T_29f88_row6_col2\" class=\"data row6 col2\" >85,675,000.0</td>\n",
       "            </tr>\n",
       "            <tr>\n",
       "                        <th id=\"T_29f88_level0_row7\" class=\"row_heading level0 row7\" >max</th>\n",
       "                        <td id=\"T_29f88_row7_col0\" class=\"data row7 col0\" >92,096,250.0</td>\n",
       "                        <td id=\"T_29f88_row7_col1\" class=\"data row7 col1\" >3,210,360.0</td>\n",
       "                        <td id=\"T_29f88_row7_col2\" class=\"data row7 col2\" >91,525,000.0</td>\n",
       "            </tr>\n",
       "    </tbody></table>"
      ],
      "text/plain": [
       "<pandas.io.formats.style.Styler at 0x7fbccb8c5940>"
      ]
     },
     "execution_count": 22,
     "metadata": {},
     "output_type": "execute_result"
    }
   ],
   "source": [
    "results_df.describe().style.format('{:,}')"
   ]
  },
  {
   "cell_type": "code",
   "execution_count": null,
   "id": "b54ee9f8-fbaa-4d85-83cc-4490c8c5215f",
   "metadata": {},
   "outputs": [],
   "source": []
  },
  {
   "cell_type": "code",
   "execution_count": null,
   "id": "b041b3ad-d4a0-4c65-834a-68e2071b0132",
   "metadata": {},
   "outputs": [],
   "source": []
  },
  {
   "cell_type": "code",
   "execution_count": null,
   "id": "25740d85-28b9-4e61-b2fb-2cadc8b9a7cb",
   "metadata": {},
   "outputs": [],
   "source": []
  }
 ],
 "metadata": {
  "kernelspec": {
   "display_name": "Python 3",
   "language": "python",
   "name": "python3"
  },
  "language_info": {
   "codemirror_mode": {
    "name": "ipython",
    "version": 3
   },
   "file_extension": ".py",
   "mimetype": "text/x-python",
   "name": "python",
   "nbconvert_exporter": "python",
   "pygments_lexer": "ipython3",
   "version": "3.8.8"
  }
 },
 "nbformat": 4,
 "nbformat_minor": 5
}
